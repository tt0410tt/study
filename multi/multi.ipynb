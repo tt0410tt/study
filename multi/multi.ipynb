{
 "cells": [
  {
   "cell_type": "code",
   "execution_count": 16,
   "metadata": {},
   "outputs": [],
   "source": [
    "import time\n",
    "import threading\n",
    "import multiprocessing\n",
    "import os\n"
   ]
  },
  {
   "cell_type": "code",
   "execution_count": 21,
   "metadata": {},
   "outputs": [
    {
     "name": "stdout",
     "output_type": "stream",
     "text": [
      "실행 시간: 1.05451초\n"
     ]
    }
   ],
   "source": [
    "# 시작 시간 기록\n",
    "start_time = time.time()\n",
    "# 실행할 코드\n",
    "for i in range(100000):\n",
    "    file_path = 'test'+str(i)+'.py'\n",
    "    open(file_path,\"w+\")\n",
    "    try:\n",
    "        if os.path.exists(file_path):\n",
    "            os.remove(file_path)\n",
    "        else:\n",
    "            pass\n",
    "    except Exception as e:\n",
    "        print(f\"파일 삭제 중 오류가 발생했습니다: {e}\")\n",
    "\n",
    "# 종료 시간 기록\n",
    "end_time = time.time()\n",
    "\n",
    "# 실행 시간 출력\n",
    "print(f\"실행 시간: {end_time - start_time:.5f}초\")"
   ]
  },
  {
   "cell_type": "code",
   "execution_count": 24,
   "metadata": {},
   "outputs": [
    {
     "name": "stdout",
     "output_type": "stream",
     "text": [
      "멀티스레드 실행 시간: 1.19148초\n"
     ]
    }
   ],
   "source": [
    "\n",
    "import threading\n",
    "import os\n",
    "import time\n",
    "\n",
    "# 작업 함수 정의\n",
    "def file_task(start, end):\n",
    "    for i in range(start, end):\n",
    "        file_path = 'test'+str(i)+'.py'\n",
    "        open(file_path, \"w+\")\n",
    "        try:\n",
    "            if os.path.exists(file_path):\n",
    "                os.remove(file_path)\n",
    "            else:\n",
    "                pass\n",
    "        except Exception as e:\n",
    "            print(f\"파일 삭제 중 오류가 발생했습니다: {e}\")\n",
    "def file_task2(start, end):\n",
    "    for i in range(start, end):\n",
    "        file_path = 'test'+str(i)+'.py'\n",
    "        open(file_path, \"w+\")\n",
    "        try:\n",
    "            if os.path.exists(file_path):\n",
    "                os.remove(file_path)\n",
    "            else:\n",
    "                pass\n",
    "        except Exception as e:\n",
    "            print(f\"파일 삭제 중 오류가 발생했습니다: {e}\")\n",
    "# 총 작업 개수\n",
    "total_files = 100000\n",
    "half = total_files // 2  # 반으로 나누기\n",
    "\n",
    "\n",
    "\n",
    "# 스레드 생성\n",
    "thread1 = threading.Thread(target=file_task, args=(0, half))\n",
    "thread2 = threading.Thread(target=file_task2, args=(half, total_files))\n",
    "# 시작 시간 기록\n",
    "start_time = time.time()\n",
    "# 스레드 시작\n",
    "thread1.start()\n",
    "thread2.start()\n",
    "\n",
    "# 스레드 완료 대기\n",
    "thread1.join()\n",
    "thread2.join()\n",
    "\n",
    "# 종료 시간 기록\n",
    "end_time = time.time()\n",
    "\n",
    "# 실행 시간 출력\n",
    "print(f\"멀티스레드 실행 시간: {end_time - start_time:.5f}초\")\n",
    "\n"
   ]
  },
  {
   "cell_type": "code",
   "execution_count": null,
   "metadata": {},
   "outputs": [],
   "source": [
    "# 시작 시간 기록\n",
    "start_time = time.time()\n",
    "\n",
    "# 실행할 코드\n",
    "for i in range(100):\n",
    "    open('test'+str(i)+'.py',\"w+\")\n",
    "\n",
    "# 종료 시간 기록\n",
    "end_time = time.time()\n",
    "\n",
    "# 실행 시간 출력\n",
    "print(f\"실행 시간: {end_time - start_time:.5f}초\")"
   ]
  }
 ],
 "metadata": {
  "kernelspec": {
   "display_name": "base",
   "language": "python",
   "name": "python3"
  },
  "language_info": {
   "codemirror_mode": {
    "name": "ipython",
    "version": 3
   },
   "file_extension": ".py",
   "mimetype": "text/x-python",
   "name": "python",
   "nbconvert_exporter": "python",
   "pygments_lexer": "ipython3",
   "version": "3.12.4"
  }
 },
 "nbformat": 4,
 "nbformat_minor": 2
}
